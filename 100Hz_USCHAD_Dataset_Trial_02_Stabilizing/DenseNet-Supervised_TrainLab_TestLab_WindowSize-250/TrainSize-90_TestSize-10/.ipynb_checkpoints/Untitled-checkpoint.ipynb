{
 "cells": [
  {
   "cell_type": "code",
   "execution_count": 3,
   "metadata": {},
   "outputs": [],
   "source": [
    "import os\n",
    "import numpy as np\n",
    "import matplotlib.pyplot as plt\n",
    "import pickle"
   ]
  },
  {
   "cell_type": "code",
   "execution_count": 2,
   "metadata": {},
   "outputs": [],
   "source": [
    "trial = 1\n",
    "seed = 1\n",
    "\n",
    "f = open('Seed-'+str(seed)+'/Trial-'+str(trial)+'_History.pckl','rb')\n",
    "history = pickle.load(f)\n",
    "f.close()"
   ]
  },
  {
   "cell_type": "code",
   "execution_count": 5,
   "metadata": {},
   "outputs": [],
   "source": [
    "acc = np.concatenate((history[0]['acc'],history[1]['acc'],history[2]['acc']))\n",
    "val_acc = np.concatenate((history[0]['val_acc'],history[1]['val_acc'],history[2]['val_acc']))\n",
    "\n",
    "loss = np.concatenate((history[0]['loss'],history[1]['loss'],history[2]['loss']))\n",
    "val_loss = np.concatenate((history[0]['val_loss'],history[1]['val_loss'],history[2]['val_loss']))\n"
   ]
  },
  {
   "cell_type": "code",
   "execution_count": null,
   "metadata": {},
   "outputs": [],
   "source": [
    "plt.plot(acc,'b')\n",
    "plt.plot(val_acc,'r')\n",
    "plt.show()\n",
    "\n",
    "plt.plot(loss,'b')\n",
    "plt.plot(val_loss,'r')\n",
    "plt.show()"
   ]
  }
 ],
 "metadata": {
  "kernelspec": {
   "display_name": "Python 3",
   "language": "python",
   "name": "python3"
  },
  "language_info": {
   "codemirror_mode": {
    "name": "ipython",
    "version": 3
   },
   "file_extension": ".py",
   "mimetype": "text/x-python",
   "name": "python",
   "nbconvert_exporter": "python",
   "pygments_lexer": "ipython3",
   "version": "3.7.3"
  }
 },
 "nbformat": 4,
 "nbformat_minor": 4
}
